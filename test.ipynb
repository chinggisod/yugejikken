import torch
import torchvision
from torch.utils.data import Dataset, DataLoader
import numpy as np
import math
import os

class trainset(Dataset):
    
    def __init__(self):
        #data loading
        csvfile= r'/artX_PyTorch/dataset/Artists/test_iderod.csv'
        xy = np.loadtxt(csvfile, delimiter=',',dtype=np.float32, skiprows=1)
        self.x = torch.from_numpy(xy[:40, 1:])
        self.y = torch.from_numpy(xy[:40, [0]])
        self.n_samples = xy.shape[0]　
        
    def __getitem__(self, index):
        return self.x[index], self.y[index]
    
    def __len__(self):
        return self.n_samples
    
class testset(Dataset):
    
    def __init__(self):
        #data loading
        csvfile= r'/artX_PyTorch/dataset/Artists/test_iderod.csv'
        xy = np.loadtxt(csvfile, delimiter=',',dtype=np.float32, skiprows=1)
        self.x = torch.from_numpy(xy[41:, 1:])
        self.y = torch.from_numpy(xy[41:, [0]])
        self.n_samples = xy.shape[0]
        
    def __getitem__(self, index):
        return self.x[index], self.y[index]
    
    def __len__(self):
        return self.n_samples
    
train = trainset()
test = testset()
trainset = torch.utils.data.DataLoader(train, batch_size=4, shuffle=False, num_workers=0)
testset = torch.utils.data.DataLoader(test, batch_size=4, shuffle=False, num_workers=0)
fd = train[10]
fes, labs = fd
print(fes, labs)

import torch.nn as nn
import torch.nn.functional as F
class Net(nn.Module):
    
    def __init__(self):
        super().__init__()
        self.fc1 = nn.Linear(7, 10)
        self.fc2 = nn.Linear(10, 10)
        self.fc3 = nn.Linear(10,10)
        self.fc4 = nn.Linear(10,3)
        
    def forward(self, x):
        x = F.relu(self.fc1(x))
        x = F.relu(self.fc2(x))
        x = F.relu(self.fc3(x))
        x = self.fc4(x)
        return F.log_softmax(x, dim=1)
    
net = Net()

import torch.optim as optim

optimizer = optim.Adam(net.parameters(), lr=0.001)

EPOCHS = 400

for epoch in range(EPOCHS):
    for data in train:
        x, y = data
        net.zero_grad()
        output = net(x.view(-1,7))
        y = y.long()
        loss = F.nll_loss(output, y)
        loss.backward()
        optimizer.step()
    if epoch%50 == 0:
        print(loss)
        
correct = 0
total = 0

with torch.no_grad():
    for data in test:
        x, y = data
        output = net(x.view(-1,7))
        for idx, i in enumerate(output):
            if torch.argmax(i) == y[idx]:
                correct += 1
            total += 1
            
print("Accuracy: ", round(correct/total, 3))

